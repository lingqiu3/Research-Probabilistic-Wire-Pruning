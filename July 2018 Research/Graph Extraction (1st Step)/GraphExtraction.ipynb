{
 "cells": [
  {
   "cell_type": "code",
   "execution_count": 1,
   "metadata": {},
   "outputs": [],
   "source": [
    "#this file reads the netlist file and try to map the netlist into a graph\n",
    "import pickle\n",
    "netlist = 'multiplier_netlist.v'   \n",
    "library = 'standard_cells_multiplier.v'\n",
    "\n",
    "\n",
    "#Python Pickle module is used to save objects by serialization. In other words, it can export a dictionary of objects(classes)\n",
    "#but in the other python file to access it, user needs to load the class definition again. "
   ]
  },
  {
   "cell_type": "code",
   "execution_count": 2,
   "metadata": {},
   "outputs": [],
   "source": [
    "#create a class of the standcells\n",
    "#this class is used to store standardcells information, it has no connection with any verilog netlist file. \n",
    "class Std_element:\n",
    "    def __init__(self,name=None):\n",
    "        self.input = []\n",
    "        self.output = []\n",
    "        self.ports_no = 0  #total number of inputs and outputs\n",
    "        \n",
    "    \n",
    "#make the standard cells into a library and so that the names of standard cell strings can be used as variables\n",
    "standard_cells = {}\n",
    "\n",
    "#store the library/(standard cells structure) into the dictionary. The elements in the dictionary are from the class\n",
    "#Std_element\n",
    "\n",
    "with open(library) as f:\n",
    "    for line in f:\n",
    "        line = line.split()\n",
    "        if line != []:\n",
    "            if line[0] == 'module':\n",
    "                std_name = line[1]\n",
    "                standard_cells[std_name] = Std_element()   #dictionary里的element都是python的class类型\n",
    "            elif line[0] == 'input':\n",
    "                element = line[1].split(',')\n",
    "                for i in element:\n",
    "                    standard_cells[std_name].input.append(i)\n",
    "                    standard_cells[std_name].ports_no += 1\n",
    "            elif line[0] == 'output':\n",
    "                element = line[1].split(',')\n",
    "                for i in element:\n",
    "                    standard_cells[std_name].output.append(i)\n",
    "                    standard_cells[std_name].ports_no += 1\n",
    "                #print element\n",
    "        "
   ]
  },
  {
   "cell_type": "code",
   "execution_count": 3,
   "metadata": {},
   "outputs": [
    {
     "data": {
      "text/plain": [
       "{'AND2X1': <__main__.Std_element instance at 0x049F7300>,\n",
       " 'AND3X1': <__main__.Std_element instance at 0x049F77D8>,\n",
       " 'AO22X1': <__main__.Std_element instance at 0x049F71E8>,\n",
       " 'AOI21X1': <__main__.Std_element instance at 0x049F7260>,\n",
       " 'AOI22X1': <__main__.Std_element instance at 0x049F7530>,\n",
       " 'INVX0': <__main__.Std_element instance at 0x049F7698>,\n",
       " 'NAND2X0': <__main__.Std_element instance at 0x049F7A30>,\n",
       " 'NAND3X0': <__main__.Std_element instance at 0x049F7850>,\n",
       " 'NOR2X0': <__main__.Std_element instance at 0x049F76E8>,\n",
       " 'NOR3X0': <__main__.Std_element instance at 0x049F7580>,\n",
       " 'OA21X1': <__main__.Std_element instance at 0x049F7760>,\n",
       " 'OA221X1': <__main__.Std_element instance at 0x049F7418>,\n",
       " 'OA22X1': <__main__.Std_element instance at 0x049F7620>,\n",
       " 'OAI21X1': <__main__.Std_element instance at 0x049F73C8>,\n",
       " 'OAI22X1': <__main__.Std_element instance at 0x049F7990>,\n",
       " 'OR2X1': <__main__.Std_element instance at 0x049F7490>,\n",
       " 'OR3X1': <__main__.Std_element instance at 0x049F73F0>,\n",
       " 'XNOR2X1': <__main__.Std_element instance at 0x049F78C8>,\n",
       " 'XOR2X1': <__main__.Std_element instance at 0x049F72D8>}"
      ]
     },
     "execution_count": 3,
     "metadata": {},
     "output_type": "execute_result"
    }
   ],
   "source": [
    "standard_cells"
   ]
  },
  {
   "cell_type": "code",
   "execution_count": 4,
   "metadata": {},
   "outputs": [],
   "source": [
    "#Node can be considered as wires\n",
    "class Node:\n",
    "    def __init__(self,name,weight=None,toggle=None):\n",
    "        self.name = name\n",
    "        self.weight = weight     #'weight' is the weight between nodes\n",
    "        self.toggle = toggle     #'toggle' is a node's toggle count and it is independent to other nodes\n",
    "        \n",
    "class adj_list:\n",
    "    def __init__(self,weight=None,toggle=None):\n",
    "        self.name = None  #this is the starting point of an adj_list\n",
    "        self.edge = []    #this dictionary stores the adjacency nodes, inside these nodes are the node name and its value\n",
    "        self.weight = weight\n",
    "        self.toggle = toggle\n",
    "        self.T0 = None\n",
    "        self.T1 = None\n",
    "        \n",
    "    def append(self,name,value=None):\n",
    "        self.edge.append(name)\n",
    "  \n",
    "def info_matching(module, info):\n",
    "    input_list = []\n",
    "    output_list = []\n",
    "    for iter in (standard_cells[gate_type].input):\n",
    "        vertex = info[info.find('.'+iter)+len(iter)+2:info.find(\")\",info.find('.'+iter))].replace(\" \", \"\")   #also removes all the white spaces\n",
    "        #print iter, vertex\n",
    "        if (vertex.find('\\n') != -1):\n",
    "            vertex = vertex.strip('\\n')\n",
    "        input_list.append(vertex)\n",
    "    for iter in (standard_cells[gate_type].output):\n",
    "        vertex = info[info.find('.'+iter)+len(iter)+2:info.find(\")\",info.find('.'+iter))].replace(\" \", \"\")   #also removes all the white spaces\n",
    "        if (vertex.find('\\n') != -1):\n",
    "            vertex = vertex.strip('\\n')\n",
    "        output_list.append(vertex)\n",
    "    return input_list, output_list"
   ]
  },
  {
   "cell_type": "code",
   "execution_count": 5,
   "metadata": {
    "scrolled": true
   },
   "outputs": [],
   "source": [
    "#string 'find' here is very import\n",
    "#want to retrieve string 'egg' between a = \"what the {egg} is this\"\n",
    "#use aka = a[a.find('{')+1:a.find('}')]. Then the value of aka will be 'egg'\n",
    "\n",
    "adjacencylist = {}   #store the Linked_list(for each node) into a dictionary(linkedlist)\n",
    "\n",
    "\n",
    "#vertex可以理解为wire\n",
    "\n",
    "incomplete_flag = False  #this indicates if it has already started to scan gate info\n",
    "collected_info = False\n",
    "with open(netlist) as f:\n",
    "    for line in f:\n",
    "        info = line.split()\n",
    "        if info != []:\n",
    "            gate_type = info[0]\n",
    "            #print line\n",
    "            if (incomplete_flag):\n",
    "                #print \"ok\"\n",
    "                #pass\n",
    "                incomplete_flag = False\n",
    "                updated_line = (partial_line + line.lstrip())\n",
    "                gate_type = updated_line.split()[0]\n",
    "                #print updated_line, gate_type\n",
    "                input_list,output_list = info_matching(gate_type,updated_line)\n",
    "                collected_info = True\n",
    "            elif gate_type in standard_cells:    #loop through every gates in the module; it also identifies the line containing gate info\n",
    "                #print line\n",
    "                if (info[-1] != ');'):      #means there are other info that is left in the second line\n",
    "                    partial_line = line\n",
    "                    incomplete_flag = True\n",
    "                else:\n",
    "                    input_list,output_list = info_matching(gate_type,line)\n",
    "                    #print line\n",
    "                    #print input_list, output_list\n",
    "                    collected_info = True\n",
    "            if (collected_info):\n",
    "                collected_info = False\n",
    "                for vertex in (input_list+output_list):\n",
    "                    if vertex not in adjacencylist:\n",
    "                        adjacencylist[vertex] = adj_list()\n",
    "                        adjacencylist[vertex].name = vertex\n",
    "                for output_vertex in output_list:\n",
    "                        for input_vertex in input_list:\n",
    "                            adjacencylist[input_vertex].append(output_vertex)  #这个append是class adj_list里面define的function           \n",
    "        "
   ]
  },
  {
   "cell_type": "code",
   "execution_count": 6,
   "metadata": {},
   "outputs": [
    {
     "data": {
      "text/plain": [
       "['n114']"
      ]
     },
     "execution_count": 6,
     "metadata": {},
     "output_type": "execute_result"
    }
   ],
   "source": [
    "adjacencylist['n147'].edge"
   ]
  },
  {
   "cell_type": "code",
   "execution_count": 7,
   "metadata": {},
   "outputs": [],
   "source": [
    "#output the adjacencylist to a pickle file\n",
    "with open('adjacencylist_multiplier.pickle','wb') as fp:\n",
    "    pickle.dump(adjacencylist,fp)"
   ]
  }
 ],
 "metadata": {
  "kernelspec": {
   "display_name": "Python 2",
   "language": "python",
   "name": "python2"
  },
  "language_info": {
   "codemirror_mode": {
    "name": "ipython",
    "version": 2
   },
   "file_extension": ".py",
   "mimetype": "text/x-python",
   "name": "python",
   "nbconvert_exporter": "python",
   "pygments_lexer": "ipython2",
   "version": "2.7.13"
  }
 },
 "nbformat": 4,
 "nbformat_minor": 2
}
