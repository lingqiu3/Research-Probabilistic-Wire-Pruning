{
 "cells": [
  {
   "cell_type": "code",
   "execution_count": 8,
   "metadata": {},
   "outputs": [],
   "source": [
    "import pickle\n",
    "\n",
    "class adj_list:\n",
    "    def __init__(self):\n",
    "        self.head = None  #this is the starting point of an adj_list\n",
    "        self.edge = []    #this dictionary stores the adjacency nodes, inside these nodes are the node name and its value\n",
    "        #self.head_tc = None\n",
    "        self.weight = None\n",
    "        self.toggle = None\n",
    "        self.T0 = None\n",
    "        self.T1 = None\n",
    "        \n",
    "    def append(self,name,value=None):\n",
    "        self.edge.append(name)\n",
    "        \n",
    "class Node:\n",
    "    def __init__(self,name,weight=None,toggle=None):\n",
    "        self.name = name\n",
    "        self.weight = weight     #'weight' is the weight between nodes\n",
    "             #'toggle' is a node's toggle count and it is independent to other nodes"
   ]
  },
  {
   "cell_type": "code",
   "execution_count": 44,
   "metadata": {},
   "outputs": [],
   "source": [
    "activity_file = \"activity.saif\"\n",
    "pickle_in = open(\"adjacencylist.pickle\",\"rb\")\n",
    "adjacencylist = pickle.load(pickle_in)\n",
    "\n",
    "\n",
    "with open(activity_file) as f:\n",
    "    flag = False\n",
    "    stop_flag = False\n",
    "    for line in f:\n",
    "        #print line\n",
    "        if (flag == True) & (line.strip() != '(NET'):\n",
    "            #print \"ok\"\n",
    "            if line.strip() == \")\":     #.strip() removes all the space at the start and end of a string\n",
    "                pass\n",
    "            if line.strip()[:3] == \"(T0\":\n",
    "                temp = line.split()\n",
    "                T0 = temp[1][:-1]\n",
    "                T1 = temp[3][:-1]\n",
    "                adjacencylist[vertex].T0 = T0\n",
    "                adjacencylist[vertex].T1 = T1\n",
    "            elif line.strip()[:3] == \"(TC\":           #need the toggle count information\n",
    "                toggle_count = line[line.find(\"C\")+1:line.find(\")\")]\n",
    "                adjacencylist[vertex].toggle = toggle_count \n",
    "            else:\n",
    "                vertex = line.strip()[1:].replace(\"\\\\\", \"\")\n",
    "                #print vertex\n",
    "        if (flag == True):\n",
    "            if (stop_flag == True):\n",
    "                if (line.strip() != \")\"):\n",
    "                    stop_flag = False\n",
    "                else:\n",
    "                    break\n",
    "        if (flag == True) & (line.strip() == \")\"):\n",
    "            stop_flag = True\n",
    "        if line.strip() == \"(INSTANCE basic\":       #strip() remove leading and ending spaces\n",
    "            flag = True     #a signal to start search\n",
    "        \n",
    "            \n",
    "            "
   ]
  },
  {
   "cell_type": "code",
   "execution_count": 50,
   "metadata": {},
   "outputs": [
    {
     "data": {
      "text/plain": [
       "' 2'"
      ]
     },
     "execution_count": 50,
     "metadata": {},
     "output_type": "execute_result"
    }
   ],
   "source": [
    "adjacencylist['n1'].toggle"
   ]
  },
  {
   "cell_type": "code",
   "execution_count": 51,
   "metadata": {},
   "outputs": [],
   "source": [
    "with open('ToggleInfo.pickle','wb') as fp:\n",
    "    pickle.dump(adjacencylist,fp)"
   ]
  }
 ],
 "metadata": {
  "kernelspec": {
   "display_name": "Python 2",
   "language": "python",
   "name": "python2"
  },
  "language_info": {
   "codemirror_mode": {
    "name": "ipython",
    "version": 2
   },
   "file_extension": ".py",
   "mimetype": "text/x-python",
   "name": "python",
   "nbconvert_exporter": "python",
   "pygments_lexer": "ipython2",
   "version": "2.7.13"
  }
 },
 "nbformat": 4,
 "nbformat_minor": 2
}
