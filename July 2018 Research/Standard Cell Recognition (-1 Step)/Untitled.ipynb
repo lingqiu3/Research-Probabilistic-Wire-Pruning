{
 "cells": [
  {
   "cell_type": "code",
   "execution_count": 17,
   "metadata": {},
   "outputs": [],
   "source": [
    "filename = \"multiplier_netlist.v\"\n",
    "\n",
    "filename_output = \"stds.txt\"\n",
    "\n",
    "std = []\n",
    "\n",
    "with open(filename) as f:\n",
    "      for line in f:\n",
    "            string_parts = line.split()\n",
    "            if len(string_parts) >= 2:\n",
    "                if string_parts[1][0] == 'U':\n",
    "                    std.append(string_parts[0])\n",
    "\n",
    "std_updated = set(std)\n",
    "###发现一处问题，有的时候读一行并没办法读完，这个时候需要注意！！！！！！！！！！！！！！！！！\n",
    "#std_ud = set(std)   #eliminate the duplicate elements in an array by changing the list into a set\n",
    "\n",
    "text_file = open(filename_output,'w')\n",
    "for cells in std_updated:\n",
    "      text_file.write(cells)\n",
    "      text_file.write(\"\\n\")\n",
    "text_file.close()\n"
   ]
  },
  {
   "cell_type": "code",
   "execution_count": 19,
   "metadata": {},
   "outputs": [
    {
     "data": {
      "text/plain": [
       "19"
      ]
     },
     "execution_count": 19,
     "metadata": {},
     "output_type": "execute_result"
    }
   ],
   "source": [
    "len(std_updated)"
   ]
  },
  {
   "cell_type": "code",
   "execution_count": null,
   "metadata": {},
   "outputs": [],
   "source": []
  }
 ],
 "metadata": {
  "kernelspec": {
   "display_name": "Python 2",
   "language": "python",
   "name": "python2"
  },
  "language_info": {
   "codemirror_mode": {
    "name": "ipython",
    "version": 2
   },
   "file_extension": ".py",
   "mimetype": "text/x-python",
   "name": "python",
   "nbconvert_exporter": "python",
   "pygments_lexer": "ipython2",
   "version": "2.7.13"
  }
 },
 "nbformat": 4,
 "nbformat_minor": 2
}
