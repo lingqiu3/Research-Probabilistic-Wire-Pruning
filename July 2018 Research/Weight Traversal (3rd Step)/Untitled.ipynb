{
 "cells": [
  {
   "cell_type": "code",
   "execution_count": 1,
   "metadata": {},
   "outputs": [],
   "source": [
    "import pickle   #used to output dictionary as a file\n",
    "\n",
    "class adj_list:\n",
    "    def __init__(self):\n",
    "        self.head = None  #this is the starting point of an adj_list\n",
    "        self.edge = []    #this dictionary stores the adjacency nodes, inside these nodes are the node name and its value\n",
    "        #self.head_tc = None\n",
    "        self.weight = None\n",
    "        self.toggle = None\n",
    "        self.T0 = None\n",
    "        self.T1 = None\n",
    "    def append(self,name,value=None):\n",
    "        self.edge.append(name)"
   ]
  },
  {
   "cell_type": "code",
   "execution_count": 2,
   "metadata": {},
   "outputs": [],
   "source": [
    "#read dictionary file\n",
    "pickle_in = open(\"ToggleInfo.pickle\",\"rb\")\n",
    "adjacencylist = pickle.load(pickle_in)\n",
    "\n",
    "#invert the order of the adjacency list\n",
    "\n",
    "\n",
    "class invert_adj_list:\n",
    "    def __init__(self):\n",
    "        self.edge = []\n",
    "    def append(self,name):\n",
    "        self.edge.append(name)\n",
    "        \n",
    "inverted_adjacencylist = {}       \n",
    "#set the initial weight for all wire to be 0 and build the inverted adjacency list --------- \n",
    "for i in adjacencylist:\n",
    "    adjacencylist[i].weight = 0\n",
    "    #print i\n",
    "    for edges in adjacencylist[i].edge:\n",
    "        #print i, \"edge is\", edges\n",
    "        if edges in inverted_adjacencylist:\n",
    "            inverted_adjacencylist[edges].append(i)\n",
    "        else:\n",
    "            inverted_adjacencylist[edges] = invert_adj_list()\n",
    "            inverted_adjacencylist[edges].append(i)\n",
    "    \n",
    "#------------------------------------------------------------\n",
    "\n"
   ]
  },
  {
   "cell_type": "code",
   "execution_count": 3,
   "metadata": {},
   "outputs": [],
   "source": [
    "#在这个function里建一个class，然后最后再统计weight的相加\n",
    "\n",
    "def BFSsearch(starting_node):\n",
    "    #global adjacencylist   #define the adjacencylist这样才能改变adjacencylist的content\n",
    "    global inverted_adjacencylist\n",
    "    q = Queue.Queue()\n",
    "    q.put(starting_node)\n",
    "    visited = {}\n",
    "    visited[starting_node] = True\n",
    "    temp_list = {}         #建立这个dictionary是为了清零之前一个output traversal得到的路径的weight\n",
    "    temp_list[starting_node] = adjacencylist[starting_node].weight\n",
    "    while not q.empty():\n",
    "        current = q.get()\n",
    "        if current in inverted_adjacencylist:\n",
    "            #print \"Current is\", current, \", Edges are:\",inverted_adjacencylist[current].edge\n",
    "            for i in inverted_adjacencylist[current].edge:     #i是连接的vertex\n",
    "                #print \"visited is\", i\n",
    "                temp_list[i] = adjacencylist[current].weight      #这有一个问题\n",
    "                #else:\n",
    "                    #temp_list[i] = adjacencylist[current].weight\n",
    "                adjacencylist[i].weight += temp_list[current]\n",
    "                visited[i] = True\n",
    "                q.put(i)\n",
    "                #print \"Visited Value is: \", adjacencylist[i].weight, \", Current value is: \", adjacencylist[current].weight, i, current\n",
    "                if i == 'a[2]':\n",
    "                    print adjacencylist[i].weight, adjacencylist[current].weight, i, current\n",
    "                    print temp_list\n",
    "    #print temp_list\n",
    "    \n",
    "    \n",
    "def DFSsearch(starting_node):\n",
    "    stack = []\n",
    "    stack.append(starting_node)\n",
    "    while stack:\n",
    "        current = stack.pop()\n",
    "        #print \"stack is: \", stack\n",
    "        if current in inverted_adjacencylist:\n",
    "            #print current,inverted_adjacencylist[current].edge\n",
    "            for i in inverted_adjacencylist[current].edge:\n",
    "                #print i\n",
    "                adjacencylist[i].weight += adjacencylist[starting_node].weight\n",
    "                stack.append(i)\n",
    "        "
   ]
  },
  {
   "cell_type": "code",
   "execution_count": 4,
   "metadata": {},
   "outputs": [
    {
     "name": "stdout",
     "output_type": "stream",
     "text": [
      "next is: ------ carry\n",
      "next is: ------ sum[0]\n",
      "next is: ------ sum[1]\n",
      "next is: ------ sum[2]\n",
      "next is: ------ sum[3]\n"
     ]
    }
   ],
   "source": [
    "#BFSsearch('carry',inverted_adjacencylist)\n",
    "\n",
    "#set the initial weight for all output---------------------\n",
    "output_node = ['carry','sum[0]','sum[1]','sum[2]','sum[3]']\n",
    "for i in adjacencylist:\n",
    "    if i in output_node:\n",
    "        adjacencylist[i].weight = 2   \n",
    "#assume the weight set for each output is the same\n",
    "\n",
    "#DFSsearch('carry')\n",
    "for i in output_node:\n",
    "    print \"next is: ------\", i\n",
    "    DFSsearch(i)\n"
   ]
  },
  {
   "cell_type": "code",
   "execution_count": 9,
   "metadata": {},
   "outputs": [
    {
     "name": "stdout",
     "output_type": "stream",
     "text": [
      "['sum[2]', 'n2']\n",
      "6\n",
      " 1\n",
      "6000046\n",
      "175\n"
     ]
    }
   ],
   "source": [
    "print adjacencylist['n4'].edge\n",
    "print adjacencylist['n4'].weight\n",
    "print adjacencylist['n4'].toggle\n",
    "print adjacencylist['n4'].T0\n",
    "print adjacencylist['n4'].T1"
   ]
  },
  {
   "cell_type": "code",
   "execution_count": null,
   "metadata": {},
   "outputs": [],
   "source": [
    "with open('ToggleInfo.pickle','wb') as fp:\n",
    "    pickle.dump(adjacencylist,fp)"
   ]
  }
 ],
 "metadata": {
  "kernelspec": {
   "display_name": "Python 2",
   "language": "python",
   "name": "python2"
  },
  "language_info": {
   "codemirror_mode": {
    "name": "ipython",
    "version": 2
   },
   "file_extension": ".py",
   "mimetype": "text/x-python",
   "name": "python",
   "nbconvert_exporter": "python",
   "pygments_lexer": "ipython2",
   "version": "2.7.13"
  }
 },
 "nbformat": 4,
 "nbformat_minor": 2
}
